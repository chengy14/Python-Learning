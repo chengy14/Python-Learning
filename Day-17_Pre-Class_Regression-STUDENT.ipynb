{
 "cells": [
  {
   "cell_type": "markdown",
   "metadata": {},
   "source": [
    "### <p style=\"text-align: right;\"> &#9989; Put your name here</p>"
   ]
  },
  {
   "cell_type": "markdown",
   "metadata": {},
   "source": [
    "# Day 17 Pre-Class Assignment: Regression\n",
    "<br/>\n",
    "<img src=\"https://upload.wikimedia.org/wikipedia/commons/thumb/3/3a/Linear_regression.svg/1200px-Linear_regression.svg.png\" alt=\"Regression\" width=500px/>\n",
    "\n",
    "\n",
    "## Goals for today's pre-class assignment\n",
    "\n",
    "* Learn a bit about regression\n",
    "* Perform linear regression \"by hand\"\n",
    "* Use NumPy & SciPy Python functions to fit data\n",
    "\n",
    "## Assignment instructions\n",
    "\n",
    "**This assignment is due by 11:59 p.m. the day before class,** and should be uploaded into the appropriate \"Pre-class assignments\" submission folder.  If you run into issues with your code, make sure to use Slack to help each other out and receive some assistance from the instructors. Submission instructions can be found at the end of the notebook."
   ]
  },
  {
   "cell_type": "markdown",
   "metadata": {},
   "source": [
    "---\n",
    "## Part 1: What is Regression?\n",
    "\n",
    "One of the problems that arises in data science is that the data is invariably imperfect. We often say that the data has \"noise\" or \"fluctuations\". The problem is that we know that the fluctuations are not real: they are caused by errors in our measurements or any other factor that is not in our control. We do not want to take those fluctuations literally. In fact, in some cases the fluctuations might actually be real, but we don't want to focus our attention on those details because we simply want the trend. Regression solves this problem by providing a methodology to find a smoother function that is consistent with your data but doesn't attempt to match every detail, which you may not believe is real. \n",
    "\n",
    "Most of the most common forms of regression is called **linear regression**. Linear regression finds the best line that goes through noisy data. But, there are other forms of regression that we will be interested in. Here are some of the methods we will explore in this class:\n",
    "\n",
    "* linear regression: fitting a best-fit line through a data set\n",
    "* fitting polynomials: rather than assuming a line, which has the form $mx+b$, we might assume some other polynomial, such as $ax^2 + mx + b$\n",
    "* curve fitting: we might want to fit to some other curve, which you need to supply based on some insight into the data, of arbitrary form; for example, the exponential $a\\exp(-t)+ b$\n",
    "* autoregression: this uses the concept of a lag plot to generate future information based on past information\n",
    "\n",
    "For this assignment, we will explore the first three, and we will do autoregression later in the week. For now, watch this video on regression and its use in data analysis."
   ]
  },
  {
   "cell_type": "markdown",
   "metadata": {},
   "source": [
    "\n",
    "#### Watch this video\n"
   ]
  },
  {
   "cell_type": "code",
   "execution_count": null,
   "metadata": {},
   "outputs": [],
   "source": [
    "from IPython.display import YouTubeVideo  \n",
    "YouTubeVideo(\"DFNzRRPjWWk\",width=640,height=360)"
   ]
  },
  {
   "cell_type": "markdown",
   "metadata": {},
   "source": [
    "----\n",
    "## Part 2: Doing Regression \"By Hand\""
   ]
  },
  {
   "cell_type": "markdown",
   "metadata": {},
   "source": [
    "Time to practice using regression to fit a function to some data. The next video covers an example of fitting a simple linear regression model \"by hand\" - calculating the slope and intercept values given some data. "
   ]
  },
  {
   "cell_type": "markdown",
   "metadata": {},
   "source": [
    "\n",
    "#### Watch this video"
   ]
  },
  {
   "cell_type": "code",
   "execution_count": null,
   "metadata": {},
   "outputs": [],
   "source": [
    "from IPython.display import YouTubeVideo  \n",
    "YouTubeVideo(\"1YUHyBTztOc\",width=640,height=360)"
   ]
  },
  {
   "cell_type": "markdown",
   "metadata": {},
   "source": [
    "____\n",
    "Using what was covered in the previous video, follow along with the code below where we will use ordinary least squares (OLS) solutions to fitting a simple linear regression model. \n",
    "\n",
    "First we can make our necessary imports and then generate some data to work with!"
   ]
  },
  {
   "cell_type": "code",
   "execution_count": 9,
   "metadata": {},
   "outputs": [],
   "source": [
    "# Import our necessary packages\n",
    "import numpy as np\n",
    "import matplotlib.pyplot as plt\n",
    "%matplotlib inline"
   ]
  },
  {
   "cell_type": "code",
   "execution_count": 10,
   "metadata": {},
   "outputs": [
    {
     "data": {
      "image/png": "[encoded data removed]",
      "text/plain": [
       "<Figure size 432x288 with 1 Axes>"
      ]
     },
     "metadata": {
      "needs_background": "light"
     },
     "output_type": "display_data"
    }
   ],
   "source": [
    "# create some x data points from 0 to π/2\n",
    "x = np.linspace(0,np.pi/2,10)\n",
    "\n",
    "# create some y data using sin(x) -- we add some \"randomness\" to the data using np.random.randn(10)\n",
    "y = np.sin(x) + 0.1*np.random.randn(10)\n",
    "\n",
    "# plot our data\n",
    "plt.scatter(x, y, label = \"data\")\n",
    "plt.legend()\n",
    "plt.show()"
   ]
  },
  {
   "cell_type": "markdown",
   "metadata": {},
   "source": [
    "Look at the plot above. Notice that the relationship between $y$ and $x$ is roughly linear. This means we can use the ordinary least squares (OLS) approach to fit a line to the data. Below is a function that performs OLS.\n",
    "\n",
    "The equations for linear regression are at in the video, but are repeated here as a reference:\n",
    "\n",
    "$$\\bar{x} = \\frac{1}{N}\\sum_i x_i$$\n",
    "\n",
    "$$\\bar{y} = \\frac{1}{N}\\sum_i y_i$$\n",
    "\n",
    "$$ m = \\frac{\\sum_i x_i y_i - N\\bar{x}\\bar{y}}{\\sum_i x_i^2 - N\\bar{x}^2}$$\n",
    "\n",
    "$$ b = \\bar{y} - m\\bar{x}$$\n",
    "\n",
    "Recall that:\n",
    "* $x_i$ are the $x$ coordinates, and there are $N$ of them\n",
    "* $y_i$ are the $y$ values of the data, and there are also $N$ of them\n",
    "* the sums, $\\sum_i$, means that you sum up all of the values that follow; for example, $\\sum_ix_i = x_0 + x_1 + \\cdots x_{N-1}$\n",
    "\n",
    "**In the function below, comment the code where specified and fill in the equation for calculating $b$, the intercept!**"
   ]
  },
  {
   "cell_type": "code",
   "execution_count": 14,
   "metadata": {},
   "outputs": [],
   "source": [
    "# This function is used to calculate ordinary least squares regression parameters given some data\n",
    "\n",
    "def my_ols_parameters(x, y):\n",
    "    \n",
    "    # average of x data\n",
    "    mean_x = np.mean(x)\n",
    "    \n",
    "    # average of y data\n",
    "    mean_y = np.mean(y)\n",
    "    \n",
    "    # number of data points we have -- len(y) would work too\n",
    "    N = len(x)\n",
    "    \n",
    "    # the sum of all the x multiplied by all the y\n",
    "    xy_product_sum = np.sum(x*y)\n",
    "    \n",
    "    # the sum of all the x squared\n",
    "    xx_product_sum = np.sum(x**2)\n",
    "    \n",
    "    \n",
    "    # what is this line doing?\n",
    "    # comment here\n",
    "    m = (xy_product_sum - N * mean_x * mean_y)/(xx_product_sum - N*mean_x**2)\n",
    "\n",
    "    # UNCOMMENT AND FILL IN THIS CODE\n",
    "    # calculate the intercept using the equation above\n",
    "    b = \n",
    "    \n",
    "    # what does this function return?\n",
    "    # comment here\n",
    "    return m, b"
   ]
  },
  {
   "cell_type": "markdown",
   "metadata": {},
   "source": [
    "The function provided below (no changes to this function are needed) takes in our $x$ data and our estimated slope and intercept values to predict expected $y$ values. We will use this function below when we plot our fitted linear regression model!"
   ]
  },
  {
   "cell_type": "code",
   "execution_count": 15,
   "metadata": {},
   "outputs": [],
   "source": [
    "# THIS FUNCTION IS PROVIDED, NO CHANGES NECESSARY\n",
    "# This function uses a regression equation to predict y given x\n",
    "# It takes in b (the intercept), m (the coefficient), and\n",
    "# x (the independent data)\n",
    "\n",
    "def my_ols_regression(x, m, b):\n",
    "    \n",
    "    expected_y = m*x + b\n",
    "    \n",
    "    return expected_y"
   ]
  },
  {
   "cell_type": "markdown",
   "metadata": {},
   "source": [
    "In the cell below, we call our finished `my_ols_parameters` function to calculate our parameters and then feed these into our `my_ols_regression` function to calculate our expected $y$ values. Comment the code below where specified!"
   ]
  },
  {
   "cell_type": "code",
   "execution_count": 16,
   "metadata": {},
   "outputs": [
    {
     "ename": "NameError",
     "evalue": "name 'b' is not defined",
     "output_type": "error",
     "traceback": [
      "\u001b[0;31m---------------------------------------------------------------------------\u001b[0m",
      "\u001b[0;31mNameError\u001b[0m                                 Traceback (most recent call last)",
      "\u001b[0;32m<ipython-input-16-426d5c657f9a>\u001b[0m in \u001b[0;36m<module>\u001b[0;34m\u001b[0m\n\u001b[1;32m      1\u001b[0m \u001b[0;31m# comment here - what is m & b?\u001b[0m\u001b[0;34m\u001b[0m\u001b[0;34m\u001b[0m\u001b[0;34m\u001b[0m\u001b[0m\n\u001b[0;32m----> 2\u001b[0;31m \u001b[0mm_expected\u001b[0m\u001b[0;34m,\u001b[0m \u001b[0mb_expected\u001b[0m \u001b[0;34m=\u001b[0m \u001b[0mmy_ols_parameters\u001b[0m\u001b[0;34m(\u001b[0m\u001b[0mx\u001b[0m\u001b[0;34m,\u001b[0m \u001b[0my\u001b[0m\u001b[0;34m)\u001b[0m\u001b[0;34m\u001b[0m\u001b[0;34m\u001b[0m\u001b[0m\n\u001b[0m\u001b[1;32m      3\u001b[0m \u001b[0;34m\u001b[0m\u001b[0m\n\u001b[1;32m      4\u001b[0m \u001b[0;31m# comment here - what are these values?\u001b[0m\u001b[0;34m\u001b[0m\u001b[0;34m\u001b[0m\u001b[0;34m\u001b[0m\u001b[0m\n\u001b[1;32m      5\u001b[0m \u001b[0mexpected_y\u001b[0m \u001b[0;34m=\u001b[0m \u001b[0mmy_ols_regression\u001b[0m\u001b[0;34m(\u001b[0m\u001b[0mx\u001b[0m\u001b[0;34m,\u001b[0m \u001b[0mm_expected\u001b[0m\u001b[0;34m,\u001b[0m \u001b[0mb_expected\u001b[0m\u001b[0;34m)\u001b[0m\u001b[0;34m\u001b[0m\u001b[0;34m\u001b[0m\u001b[0m\n",
      "\u001b[0;32m<ipython-input-14-7719dc7ba0fd>\u001b[0m in \u001b[0;36mmy_ols_parameters\u001b[0;34m(x, y)\u001b[0m\n\u001b[1;32m     29\u001b[0m     \u001b[0;31m# what does this function return?\u001b[0m\u001b[0;34m\u001b[0m\u001b[0;34m\u001b[0m\u001b[0;34m\u001b[0m\u001b[0m\n\u001b[1;32m     30\u001b[0m     \u001b[0;31m# comment here\u001b[0m\u001b[0;34m\u001b[0m\u001b[0;34m\u001b[0m\u001b[0;34m\u001b[0m\u001b[0m\n\u001b[0;32m---> 31\u001b[0;31m     \u001b[0;32mreturn\u001b[0m \u001b[0mm\u001b[0m\u001b[0;34m,\u001b[0m \u001b[0mb\u001b[0m\u001b[0;34m\u001b[0m\u001b[0;34m\u001b[0m\u001b[0m\n\u001b[0m",
      "\u001b[0;31mNameError\u001b[0m: name 'b' is not defined"
     ]
    }
   ],
   "source": [
    "# comment here - what is m & b?\n",
    "m_expected, b_expected = my_ols_parameters(x, y)\n",
    "\n",
    "# comment here - what are these values?\n",
    "expected_y = my_ols_regression(x, m_expected, b_expected)\n",
    "\n",
    "# plot our data against our fitted linear regression\n",
    "plt.scatter(x, y, label = \"data\")\n",
    "plt.plot(x, expected_y, color = \"orange\", label = \"fit\")\n",
    "\n",
    "plt.legend()\n",
    "plt.xlabel('x')\n",
    "plt.ylabel('y')\n",
    "plt.show()"
   ]
  },
  {
   "cell_type": "markdown",
   "metadata": {},
   "source": [
    "Print out your calculated slope and intercept below. What do these values mean in terms of $x$ and $y$?"
   ]
  },
  {
   "cell_type": "code",
   "execution_count": null,
   "metadata": {},
   "outputs": [],
   "source": [
    "# Put your code here\n"
   ]
  },
  {
   "cell_type": "markdown",
   "metadata": {},
   "source": [
    "***Record your thoughts here!***"
   ]
  },
  {
   "cell_type": "markdown",
   "metadata": {},
   "source": [
    "----\n",
    "## Part 3: Regression using `np.polyfit` and `np.poly1d`"
   ]
  },
  {
   "cell_type": "markdown",
   "metadata": {},
   "source": [
    "Now that we have practiced regression by hand, we can take a look at how Python makes fitting a regression model to some data a lot easier! NumPy provides us with a couple of functions that can take data and fit a linear regression model to it (links are provided to the documentation):\n",
    "\n",
    "* [`np.polyfit`](https://docs.scipy.org/doc/numpy-1.15.0/reference/generated/numpy.polyfit.html])\n",
    "* [`np.poly1d`](https://docs.scipy.org/doc/numpy-1.15.1/reference/generated/numpy.poly1d.html)\n",
    "\n",
    "Fitting regression models with your own written functions can be a pain when there is a lot of data or you have a complicated function. NumPy makes this process very fast and efficient. Watch the video below for a quick tutorial! Note the similarities between `np.polyfit`/`np.poly1d` and our `my_ols_parameters`/`my_ols_regression` functions above."
   ]
  },
  {
   "cell_type": "markdown",
   "metadata": {},
   "source": [
    "#### Watch this video"
   ]
  },
  {
   "cell_type": "code",
   "execution_count": null,
   "metadata": {},
   "outputs": [],
   "source": [
    "from IPython.display import YouTubeVideo  \n",
    "YouTubeVideo(\"WUIMxqrPcDE\",width=640,height=360)"
   ]
  },
  {
   "cell_type": "markdown",
   "metadata": {},
   "source": [
    "____\n",
    "Let's work through a couple of examples of `np.polyfit` and `np.poly1d` using the $x$ and $y$ data from the above exercise. First, let's quickly do a first-order linear regression like we did above! How do these calculated parameter values compare to when we calculated them \"by hand\" above?"
   ]
  },
  {
   "cell_type": "code",
   "execution_count": 17,
   "metadata": {},
   "outputs": [
    {
     "name": "stdout",
     "output_type": "stream",
     "text": [
      "[0.64364092 0.11041431]\n"
     ]
    }
   ],
   "source": [
    "parameters = np.polyfit(x, y, 1)\n",
    "\n",
    "print(parameters)"
   ]
  },
  {
   "cell_type": "markdown",
   "metadata": {},
   "source": [
    "***Put your answer here!***"
   ]
  },
  {
   "cell_type": "markdown",
   "metadata": {},
   "source": [
    "Instead of doing a simple first-order (linear) regression, let's use `np.polyfit` to fit a simple second-order (quadratic) regression to our $x$ and $y$ data. **You will need to fill in the some of the code below.**"
   ]
  },
  {
   "cell_type": "code",
   "execution_count": null,
   "metadata": {},
   "outputs": [],
   "source": [
    "# use np.polyfit to get the parameters for our polynomial regression\n",
    "poly_parameters = np.polyfit(x, y, 2)\n",
    "\n",
    "# uncomment this code and pass in the parameters array to np.poly1d to create a regression function\n",
    "#my_poly_function = ?\n",
    "\n",
    "# initialize our predicted y values from the my_poly_function created using np.poly1d\n",
    "expected_y_poly = my_poly_function(x)\n",
    "\n",
    "# plot our data against our fitted function\n",
    "plt.scatter(x, y, label = \"data\")\n",
    "plt.plot(x, expected_y_poly, color = \"orange\", label = \"fit\")\n",
    "\n",
    "plt.legend()\n",
    "plt.xlabel('x')\n",
    "plt.ylabel('y')\n",
    "plt.show()"
   ]
  },
  {
   "cell_type": "markdown",
   "metadata": {},
   "source": [
    "----\n",
    "## Part 4: Fitting a function using `curve_fit`"
   ]
  },
  {
   "cell_type": "markdown",
   "metadata": {},
   "source": [
    "What if we want to fit a different type of function than a polynomial to our data? Maybe instead of our data having a linear relationship, like $y = mx + b$, the data is sinusoidal or exponential. NumPy's `polyfit` and `poly1d` can't fit non-linear functions like these. Luckily for us, the SciPy library provides us with a function that can: [`curve_fit`](https://docs.scipy.org/doc/scipy/reference/generated/scipy.optimize.curve_fit.html). **You do not need to code anything yourself for this tutorial - just follow along with the code and answer a couple of questions about what is happening!**"
   ]
  },
  {
   "cell_type": "code",
   "execution_count": 23,
   "metadata": {},
   "outputs": [],
   "source": [
    "# import curve_fit function\n",
    "from scipy.optimize import curve_fit"
   ]
  },
  {
   "cell_type": "markdown",
   "metadata": {},
   "source": [
    "SciPy's `curve_fit` function takes in three arguments: a function that we define in Python, our $x$ data, and our $y$ data. It then returns an array of parameters that our defined function uses. \n",
    "\n",
    "Let's take a look at the example in the cell below. Run the cell and see that our data follows a sinusoidal relationship."
   ]
  },
  {
   "cell_type": "code",
   "execution_count": 24,
   "metadata": {},
   "outputs": [
    {
     "data": {
      "image/png": "[encoded data removed]",
      "text/plain": [
       "<Figure size 432x288 with 1 Axes>"
      ]
     },
     "metadata": {
      "needs_background": "light"
     },
     "output_type": "display_data"
    }
   ],
   "source": [
    "# generate some x data: sixty data points from 0 to 4π\n",
    "x_sin = np.linspace(0,4*np.pi,60)\n",
    "\n",
    "# generate some y data: 1.5 * sin(1.2x + 0.5)\n",
    "# we add the np.random.normal(1, .35, 60) at the end to add some randomness to the data\n",
    "y_sin = 1.5 * np.sin(1.2 * x_sin) + np.random.normal(.25,.25,60)\n",
    "\n",
    "# plot our data\n",
    "plt.scatter(x_sin, y_sin, label = \"data\")\n",
    "\n",
    "plt.legend()\n",
    "plt.xlabel('x')\n",
    "plt.ylabel('y')\n",
    "plt.show()"
   ]
  },
  {
   "cell_type": "markdown",
   "metadata": {},
   "source": [
    "Because this is just simulated data, we know that our \"signal\" is a sinusoid that has the relationship $y = 1.5 * sin(1.2x)$. A typical sin curve model is $y = A * sin(Bx + C)$. This means our true parameter values are:\n",
    "\n",
    "* $A = 1.5$\n",
    "* $B = 1.2$\n",
    "* $C = 0$\n",
    "\n",
    "However, we usually don't know the values of these parameters - that's why we use regression & curve fitting! We define our sin function below for `curve_fit`"
   ]
  },
  {
   "cell_type": "code",
   "execution_count": 25,
   "metadata": {},
   "outputs": [],
   "source": [
    "def my_sin_function(x, A, B, C):\n",
    "    \n",
    "    return A * np.sin(B * x + C)"
   ]
  },
  {
   "cell_type": "markdown",
   "metadata": {},
   "source": [
    "Next we can run `curve_fit` in the cell below now that we have our function defined and our data. `curve_fit` returns two values: the first is an array of our parameter values. In this example, the array will be $[A, B, C]$.\n",
    "\n",
    "Print out the fitted and expected paramter values from `curve_fit`. Are they close to our true values?"
   ]
  },
  {
   "cell_type": "code",
   "execution_count": 26,
   "metadata": {},
   "outputs": [
    {
     "name": "stdout",
     "output_type": "stream",
     "text": [
      "[ 1.64738092  1.20173623 -0.01267907]\n"
     ]
    }
   ],
   "source": [
    "# Use curve_fit by passing in the sin function, x data, and y data\n",
    "popt, pcov = curve_fit(my_sin_function, x_sin, y_sin)\n",
    "\n",
    "# Print the array of fitted parameter values\n",
    "print(popt)"
   ]
  },
  {
   "cell_type": "markdown",
   "metadata": {},
   "source": [
    "*Are the fitted parameters close to our true values? **Put your answer here!***"
   ]
  },
  {
   "cell_type": "markdown",
   "metadata": {},
   "source": [
    "We can now unpack our parameter values and use them in our sin function to get our expected $y$ values. Once we have our fitted curve, we can plot it against the data below!"
   ]
  },
  {
   "cell_type": "code",
   "execution_count": 27,
   "metadata": {},
   "outputs": [
    {
     "data": {
      "image/png": "[encoded data removed]",
      "text/plain": [
       "<Figure size 432x288 with 1 Axes>"
      ]
     },
     "metadata": {
      "needs_background": "light"
     },
     "output_type": "display_data"
    }
   ],
   "source": [
    "a_expected = popt[0]  # get fitted A value\n",
    "b_expected = popt[1]  # get fitted B value\n",
    "c_expected = popt[2]  # get fitted C value\n",
    "\n",
    "# use my_sin_function with new parameters to get expected y values\n",
    "y_sin_expected = my_sin_function(x_sin, a_expected, b_expected, c_expected)\n",
    "\n",
    "\n",
    "# plot our actual data\n",
    "plt.scatter(x_sin, y_sin, label = \"data\")\n",
    "\n",
    "# plot our fitted curve\n",
    "plt.plot(x_sin, y_sin_expected, color = \"orange\", label = \"fit\")\n",
    "\n",
    "plt.legend()\n",
    "plt.xlabel('x')\n",
    "plt.ylabel('y')\n",
    "plt.show()"
   ]
  },
  {
   "cell_type": "markdown",
   "metadata": {},
   "source": [
    "Is the fitted sin function from `curve_fit` a \"good fit\" for our data?"
   ]
  },
  {
   "cell_type": "markdown",
   "metadata": {},
   "source": [
    "***Record your thoughts here***"
   ]
  },
  {
   "cell_type": "markdown",
   "metadata": {},
   "source": [
    "---\n",
    "## Assignment wrap-up\n",
    "\n",
    "Please fill out the form that appears when you run the code below.  **You must completely fill this out in order to receive credit for the assignment!**"
   ]
  },
  {
   "cell_type": "code",
   "execution_count": null,
   "metadata": {},
   "outputs": [],
   "source": [
    "from IPython.display import HTML\n",
    "HTML(\n",
    "\"\"\"\n",
    "<iframe \n",
    "\tsrc=\"https://cmse.msu.edu/cmse801-pc-survey\" \n",
    "\twidth=\"800px\" \n",
    "\theight=\"600px\" \n",
    "\tframeborder=\"0\" \n",
    "\tmarginheight=\"0\" \n",
    "\tmarginwidth=\"0\">\n",
    "\tLoading...\n",
    "</iframe>\n",
    "\"\"\"\n",
    ")"
   ]
  },
  {
   "cell_type": "markdown",
   "metadata": {},
   "source": [
    "### Congratulations, you're done!\n",
    "\n",
    "Submit this assignment by uploading it to the course Desire2Learn web page.  Go to the \"Pre-class assignments\" folder, find the appropriate submission link, and upload it there.\n",
    "\n",
    "See you in class!"
   ]
  },
  {
   "cell_type": "markdown",
   "metadata": {},
   "source": [
    "&#169; Copyright 2018,  Michigan State University Board of Trustees"
   ]
  }
 ],
 "metadata": {
  "kernelspec": {
   "display_name": "Python 3",
   "language": "python",
   "name": "python3"
  },
  "language_info": {
   "codemirror_mode": {
    "name": "ipython",
    "version": 3
   },
   "file_extension": ".py",
   "mimetype": "text/x-python",
   "name": "python",
   "nbconvert_exporter": "python",
   "pygments_lexer": "ipython3",
   "version": "3.7.3"
  }
 },
 "nbformat": 4,
 "nbformat_minor": 4
}
