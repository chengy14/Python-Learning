{
 "cells": [
  {
   "cell_type": "markdown",
   "metadata": {},
   "source": [
    "### <p style=\"text-align: right;\"> &#9989; Put your name here</p>"
   ]
  },
  {
   "cell_type": "markdown",
   "metadata": {},
   "source": [
    "# Day 14 Pre-Class: The Command Line Interface and Python Scripting\n",
    "\n",
    "In this pre-class assignment we'll explore how one can use the Command Line Interface (CLI) to interact with a computer and run Python scripts."
   ]
  },
  {
   "cell_type": "markdown",
   "metadata": {},
   "source": [
    "## Learning Goals\n",
    "\n",
    "Be able to:\n",
    "\n",
    "- Describe and use a Command Line Interface (CLI)\n",
    "- Run a python script from the command line."
   ]
  },
  {
   "cell_type": "markdown",
   "metadata": {},
   "source": [
    "### Assignment details\n",
    "\n",
    "**This assignment is due by 11:59 p.m. the day before class,** and should be uploaded into the \"Pre-class assignments\" submission folder for Day 14.  If you run into issues with your code, make sure to use Slack to help each other out and receive some assistance from the instructors. Submission instructions can be found at the end of the notebook."
   ]
  },
  {
   "cell_type": "markdown",
   "metadata": {},
   "source": [
    "----\n",
    "\n",
    "## Part 1: What is a Command Line Interface (CLI)?\n",
    "\n",
    "First off, in order to work through this assignment, you will need to log into the JupyterHub interface. You should be log onto the engineering Jupyterhub account using the following link: \n",
    "\n",
    "http://jupyterhub.egr.msu.edu\n",
    "\n",
    "Once you've done so, **upload this notebook along with the `fib.py` file provided on D2L** and complete the rest of the assignment from within JupyterHub. If you're already using JupyterHub, make sure you still upload the `fib.py` file.\n",
    "\n",
    "At the end of the assignment, you'll need to download the notebook from JupyterHub before you can upload it to D2L."
   ]
  },
  {
   "cell_type": "markdown",
   "metadata": {},
   "source": [
    "**With this notebook opened from within JupyterHub**, watch the following video for an introduction to the Engineering Jupyterhub Terminal program which is one possible Command Line Interface (CLI) that can be used for work done in this class. I highly recommend that you follow along and execute the same commands as the video.  If you are watching/listening to the video on-the-go, a summary of the commands presented in the video are included below as a reference for when you get back to your computer."
   ]
  },
  {
   "cell_type": "code",
   "execution_count": 1,
   "metadata": {},
   "outputs": [
    {
     "data": {
      "image/jpeg": "[encoded data removed]",
      "text/html": [
       "\n",
       "        <iframe\n",
       "            width=\"640\"\n",
       "            height=\"360\"\n",
       "            src=\"https://www.youtube.com/embed/dhuZdzSblD4\"\n",
       "            frameborder=\"0\"\n",
       "            allowfullscreen\n",
       "        ></iframe>\n",
       "        "
      ],
      "text/plain": [
       "<IPython.lib.display.YouTubeVideo at 0x112707630>"
      ]
     },
     "execution_count": 1,
     "metadata": {},
     "output_type": "execute_result"
    }
   ],
   "source": [
    "# the command below this comment actually displays a specific YouTube video,  \n",
    "# with a given width and height.  You can watch the video in full-screen (much higher\n",
    "# resolution) mode by clicking the little box in the bottom-right corner of the video.\n",
    "from IPython.display import YouTubeVideo\n",
    "YouTubeVideo(\"dhuZdzSblD4\",width=640,height=360)"
   ]
  },
  {
   "cell_type": "markdown",
   "metadata": {},
   "source": [
    "**Question 1:** What is the name of the Shell that is being used by your Engineering Jupyterhub terminal program? \n",
    "\n"
   ]
  },
  {
   "cell_type": "markdown",
   "metadata": {},
   "source": [
    "<font size=8 color=\"#009600\">&#9998;</font> /usr/bin/tcsh"
   ]
  },
  {
   "cell_type": "markdown",
   "metadata": {},
   "source": [
    "**Question 2:** Add a short description for each of the following commands. If you're uncertain as to what they do, test them out in your JupyterHub terminal!"
   ]
  },
  {
   "cell_type": "markdown",
   "metadata": {},
   "source": [
    "<font size=8 color=\"#009600\">&#9998;</font> Do This - Erase this instructional text and modify the following list to include short (just a few words) descriptions for each command as it was presented in the video.  A few descriptions  are provided for you as examples and some of them are repeated:\n",
    "\n",
    "\n",
    "* echo $SHELL   #see what shell is being used\n",
    "* python   #running python\n",
    "    * import random\n",
    "    * random.randint(1,100)\n",
    "    * quit()(quit python)\n",
    "* clear #clear screen\n",
    "* pwd #see what working directory is\n",
    "* ls#list content in this directory\n",
    "* cd jnotebooks_scratch # Change to the directory named jnotebooks_scratch\n",
    "* cd ..#take back to home directory\n",
    "* cd ~ #shortcut for home directory\n",
    "* cd - # Change to the previous directory\n",
    "* python\n",
    "    * import os#import operating system\n",
    "    * os.getcwd()#get working directory\n",
    "    * os.chdir('..')#change directory to home\n",
    "    * quit()#quit python\n",
    "    "
   ]
  },
  {
   "cell_type": "markdown",
   "metadata": {},
   "source": [
    "**Question 3:** What is the name of the command for showing the contents of the current working directory in the terminal program?"
   ]
  },
  {
   "cell_type": "markdown",
   "metadata": {},
   "source": [
    "<font size=8 color=\"#009600\">&#9998;</font> pwd"
   ]
  },
  {
   "cell_type": "markdown",
   "metadata": {},
   "source": [
    "**Question 4:** What is the name of the command for creating a new directory in the terminal program? (Note this command was not in the video. You many need to try and use Google to figure this out, if you can not find the answer, let us know and include some of the keywords you used in Google as your answer). "
   ]
  },
  {
   "cell_type": "markdown",
   "metadata": {},
   "source": [
    "<font size=8 color=\"#009600\">&#9998;</font> mkdir"
   ]
  },
  {
   "cell_type": "markdown",
   "metadata": {},
   "source": [
    "---\n",
    "## Part 2: Running some sample Python code\n",
    "\n",
    "Now that you have a bit of familiarity with the command line interface, you're going to try running and modifying a python script.\n",
    "\n",
    "On D2L, you should have downloaded `fib.py` and then uploaded it to JupyterHub in the same location where you uploaded this Jupyter notebook. If you didn't do that earlier, do it now. Once you've uploaded the file, you should be able to click on it and have it open in a new tab. This new tab will serve as your text editor for modifying the file. **You should now have _4_ tabs open, one for the Jupyter notebook server, one for this notebook, one for the terminal, and one with the `fib.py` script open.**\n",
    "\n",
    "`fib.py` is very simple piece of code that *should* print out the Fibonnaci sequence, which should be: 0, 1, 1, 2, 3, 5, 8, 13, 21, ...\n",
    "\n",
    "Try running the code on the command line by doing the following in your JupyerHub terminal:\n",
    "\n",
    "<code>$ python fib.py</code> \n",
    "\n",
    "**Note**: if this doesn't work, it could be that you are not in the same directory as the Python script. If this is the case, you will need to navigate to the correct location using the command line command you just learned!\n",
    "\n",
    "**Once you get the script to run, review the results.** Uh oh! It looks like there is a bug in this code. Review the file in the text editor window and try to figure out what is going wrong. Try to fix the code, save the file, and then run it again.\n",
    "\n",
    "Did it work? Write down what the bug was in the cell below."
   ]
  },
  {
   "cell_type": "markdown",
   "metadata": {},
   "source": [
    "**What was the bug?**: < the higher number should be the sum of the previous number,intead of substract >"
   ]
  },
  {
   "cell_type": "markdown",
   "metadata": {},
   "source": [
    "**Note**: If you're run into persistent issues with getting Python to run the script from the command line, contact your instructors as soon as possible. There might be a simple solution!"
   ]
  },
  {
   "cell_type": "markdown",
   "metadata": {},
   "source": [
    "___\n",
    "## Part 3: Project Proposals\n",
    "\n",
    "Now that you've had a chance to think about your semester project and brainstorm some ideas, hopefully you're started to develop a sense for which of your brainstormed ideas will work best for you. Just a reminder: if you find a better idea later on in the course and you want to switch to a different project, it is OK to do so. Please discuss this with the instructor first. If you're still having issues coming up with a project idea **email your instructor and let them know**. Do this sooner than later so that they have time to help you out.\n",
    "\n",
    "For the final part of this pre-class assignment, you're expected to prepare 1-3 slides for your proposed project idea. In class, you will be expected to give a **very short** presentation to a classmate (or two) using these slides. Here is one possible way to construct your slides:\n",
    "\n",
    "**Slide 1: Motivations**: Why do you want to study this project? What question(s) do you want to answer?\n",
    "\n",
    "**Slide 2: Model/Computing Method**: Briefly describe what model or computational method you plan to use for your project. The class will cover more modeling material as the semester progresses and you might need to use techniques that go beyond the scope of the course so, for now, a rough sketch will do.\n",
    "\n",
    "**Slide 3: Python Tools**: What tools do you expect to use for data manipulation and visualization (plots)?\n",
    "\n",
    "Regardless of how you set up your slides, you should make sure to include all of the content outlined above.\n",
    "\n",
    "You can make the slides in whatever program you prefer (e.g. Google Slides, Powerpoint, or Keynote), but you need to **output your slides in PDF format, name it LastName_FirstName.pdf, and upload it to the D2L dropbox for this pre-class assignment, along with this notebook.**\n",
    "\n",
    "Also, **be prepared to present these slides to your classmates** so that you can discuss any concerns you might have about your idea and get their feedback."
   ]
  },
  {
   "cell_type": "markdown",
   "metadata": {},
   "source": [
    "---\n",
    "## Follow-up Questions\n",
    "\n",
    "Copy and paste the following questions into the appropriate box in the assignment survey include below and answer them there. (Note: You'll have to fill out the assignment number and go to the \"NEXT\" section of the survey to paste in these questions.)\n",
    "\n",
    "1. Have you ever used a \"Command Line Interface\" before? If so, what did you use it for?\n",
    "\n",
    "2. What was the bug in `fib.py`?\n",
    "\n",
    "3. Do you feel like you have a good project direction in mind at this point? If not, please indicate how your instructor might be able to help with this process."
   ]
  },
  {
   "cell_type": "markdown",
   "metadata": {},
   "source": [
    "---\n",
    "## Assignment wrap-up\n",
    "Please fill out the form that appears when you run the code below. You must completely fill this out in order to receive credit for the assignment!"
   ]
  },
  {
   "cell_type": "code",
   "execution_count": 3,
   "metadata": {},
   "outputs": [
    {
     "data": {
      "text/html": [
       "\n",
       "<iframe \n",
       "\tsrc=\"https://cmse.msu.edu/cmse801-pc-survey\" \n",
       "\twidth=\"800px\" \n",
       "\theight=\"600px\" \n",
       "\tframeborder=\"0\" \n",
       "\tmarginheight=\"0\" \n",
       "\tmarginwidth=\"0\">\n",
       "\tLoading...\n",
       "</iframe>\n"
      ],
      "text/plain": [
       "<IPython.core.display.HTML object>"
      ]
     },
     "execution_count": 3,
     "metadata": {},
     "output_type": "execute_result"
    }
   ],
   "source": [
    "from IPython.display import HTML\n",
    "HTML(\n",
    "\"\"\"\n",
    "<iframe \n",
    "\tsrc=\"https://cmse.msu.edu/cmse801-pc-survey\" \n",
    "\twidth=\"800px\" \n",
    "\theight=\"600px\" \n",
    "\tframeborder=\"0\" \n",
    "\tmarginheight=\"0\" \n",
    "\tmarginwidth=\"0\">\n",
    "\tLoading...\n",
    "</iframe>\n",
    "\"\"\"\n",
    ")"
   ]
  },
  {
   "cell_type": "markdown",
   "metadata": {},
   "source": [
    "### Congratulations, you're done!\n",
    "\n",
    "Submit this assignment by uploading it to the course D2L web page.  Go to the \"Pre-class assignments\" folder, find the submission link for Day 13, and upload it there."
   ]
  },
  {
   "cell_type": "markdown",
   "metadata": {},
   "source": [
    "&#169; Copyright 2019,  Michigan State University Board of Trustees"
   ]
  }
 ],
 "metadata": {
  "kernelspec": {
   "display_name": "Python 3",
   "language": "python",
   "name": "python3"
  },
  "language_info": {
   "codemirror_mode": {
    "name": "ipython",
    "version": 3
   },
   "file_extension": ".py",
   "mimetype": "text/x-python",
   "name": "python",
   "nbconvert_exporter": "python",
   "pygments_lexer": "ipython3",
   "version": "3.7.3"
  }
 },
 "nbformat": 4,
 "nbformat_minor": 4
}
