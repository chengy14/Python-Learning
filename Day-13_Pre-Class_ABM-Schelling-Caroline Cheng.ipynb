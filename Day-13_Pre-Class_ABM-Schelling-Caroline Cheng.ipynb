{
 "cells": [
  {
   "cell_type": "markdown",
   "metadata": {},
   "source": [
    "### <p style=\"text-align: right;\"> &#9989; Caroline Cheng</p>"
   ]
  },
  {
   "cell_type": "markdown",
   "metadata": {},
   "source": [
    "# Day 13 Pre-Class: Exploring social dynamics with agent-based models\n",
    "\n",
    "In this pre-class assignment we'll continue to explore agent-based models, this time in the context of how individual preferences and bias can drive large scale trends.\n",
    "\n",
    "<img src=\"https://static01.nyt.com/newsgraphics/2015/07/08/census-map/0e13706b21b2d3c74408a9adc4b6e011e8bd540a/thumbnails/newyork.jpg\" width=500px>"
   ]
  },
  {
   "cell_type": "markdown",
   "metadata": {},
   "source": [
    "## Learning Goals\n",
    "\n",
    "We want you to:\n",
    "\n",
    "- Consider [Thomas Schelling's 1974 research](https://www.stat.berkeley.edu/~aldous/157/Papers/Schelling_Seg_Models.pdf): a complex system where a slight bias in individual preference leads to a large-scale effect\n",
    "- Try out Schelling's rules\n",
    "- Think about when and how a Schelling simulation terminates\n",
    "- Explore the early parts of the code necessary to run the Schelling model"
   ]
  },
  {
   "cell_type": "markdown",
   "metadata": {},
   "source": [
    "### Assignment details\n",
    "\n",
    "**This assignment is due by 11:59 p.m. the day before class,** and should be uploaded into the \"Pre-class assignments\" submission folder for Day 13.  If you run into issues with your code, make sure to use Slack to help each other out and receive some assistance from the instructors. Submission instructions can be found at the end of the notebook."
   ]
  },
  {
   "cell_type": "markdown",
   "metadata": {},
   "source": [
    "---\n",
    "\n",
    "# Introduction\n",
    "\n",
    "Segregation by race, social class and other factors is a long-standing and pernicious problem in the United States.  Segregation is a complicated problem, whose causes have been historically driven by racial animosity.  Racial segregation has a long and dark history, and was once pervasively enforced by the government.  Although much effort has been extended to desegregate schools, churches and neighborhoods, segregation along racial and economic lines continues to persist in the United States.\n",
    "\n",
    "Although incomplete, simple models can be used to help understand this phenomenon and how it can be reversed. **Nicky Case** developed a game-based model that explores simple rules in a 2D world to see how small-scale individual preferences can have larger effects on society called the \"[Parable of the Polygons](http://ncase.me/polygons/)\".\n",
    "\n",
    "Earlier, an economist [Thomas Schelling](https://en.wikipedia.org/wiki/Thomas_Schelling) published a simpler, 1D model in what would become a landmark paper called \"[Dynamic Models of Segregation](https://www.stat.berkeley.edu/~aldous/157/Papers/Schelling_Seg_Models.pdf).\" In it, Schelling tried to explore how, in a simple toy system, individuals segregate themselves even if they have an expressed preference for having neighbors different from themselves. In other words: Schelling explored how small individual preferences can lead to larger-scale social segregation, where 'like' people clump together.\n",
    "\n",
    "## The sensitivity around race and historical artifacts in the present day\n",
    "\n",
    "Studying this model and the history involved means also accepting the baggage that surrounds them. These models offer us great insight into social systems, but they also have a history and implications that touch on tense social issues. So, as a class, let's:\n",
    "\n",
    "- Be aware that we come from many different backgrounds\n",
    "- Know that segregation can take many forms, not all of which are strictly based on race\n",
    "- Recognize that the model's function is to try to mimic a phenomenon, not to dictate how society is or should be\n",
    "\n",
    "# Schelling's 1-dimensional toy system\n",
    "\n",
    "His first toy system looked like this: a one-dimensional set of characters to stand in for individuals who differed on some property:\n",
    "\n",
    "+++OOO+++O+O++O+O+OOO+O++OOO++OOOO+++++O+O++OO+O+OO+++\n",
    "\n",
    "Suppose, that everybody wants at least half of their neighbors to share this property, and that everyone defines their 'neighborhood' to include the four nearest neighbors on either side. In other words, **a \"+\" wants at least four of their eight nearest neighbors to be \"+\"s; and a \"O\" wants at least four of their eight nearest neighbors to be \"O\"s**. Including themselves, this means that they want a bare majority, five out of the nine. (For those near the end of the line the rule is that, of the four neighbors on the side toward the center plus the one, two or three outboard neighbors, half must be like oneself)\n",
    "\n",
    "# Your Turn - Calculate an individual's preference assuming a neighborhood size of +/- 4\n",
    "\n",
    "Let's look at another line, and put dots over the characters that want to move. We'll take two individual characters (two zeroes) as examples. The first zero *doesn't* want to move, because its neighborhood has a simple majority of zeroes like itself. But what about the zero that lives next door? \n",
    "\n",
    "<img src=\"http://f.cl.ly/items/0M3V1n3Q0G1a242h1T13/2016-02-21%20-%20schelling%20one-dimensional%20neighborhood-3%2002-21-16,%202.06.32%20AM.png\" width=1000px alt=\"Close-up of Schelling's initial one-dimensional neighborhood. Individuals with dots above their heads are unhappy with their neighborhoods\">\n",
    "\n",
    "---\n",
    "**Question**: In the second diagram, will the highlighted zero want to move? Put your answer below and explain how you know."
   ]
  },
  {
   "cell_type": "markdown",
   "metadata": {},
   "source": [
    "*Put your answer here!*\n",
    "\n",
    "4/9=44.4%<50% doesn't want to move"
   ]
  },
  {
   "cell_type": "markdown",
   "metadata": {},
   "source": [
    "---\n",
    "\n",
    "# The assumptions of Schelling's model\n",
    "\n",
    "* There are only two groups\n",
    "* Everyone has a particular location at any moment\n",
    "* Everyone is capable of moving if they are dissatisfied with their current neighborhood\n",
    "\n",
    "# The rules of Schelling's model\n",
    "\n",
    "Here's how Schelling sets up the rules for a 1-dimensional simulation:\n",
    "\n",
    "## Whether a resident wants to move\n",
    "\n",
    "- Everybody wants at least half their neighbors to be like themselves \n",
    "- Everyone defines their 'neighborhood' to include the four nearest neighbors on either side\n",
    "- A plus wants at least four of their eight nearest neighbors to be plus\n",
    "- A zero wants at least four of their eight nearest neighbors to be zeros\n",
    "- For those near the end of the line the rule is that, of the four neighbors on the side toward the center plus the one, two or three outboard neighbors, half must be like oneself\n",
    "\n",
    "## How a resident moves\n",
    "\n",
    "- A dissatisfied resident moves to the nearest point that meets their minimum demand---the nearest point at which half of their neighbors will be like themselves when they arrive\n",
    "- 'Nearest' means the point reached by passing the smallest number of neighbors on the way\n",
    "- A resident moves by shoving themselves between any two other residents. (It's a bit like cutting in a line/queue: if you want to cut in, you just kind of insert yourself between two people already in line and the rest of the line adjusts around you)\n",
    "\n",
    "## The order of moves\n",
    "\n",
    "- Arbitrarily let the discontented members (those who have fewer than four neighbors like themselves) move in turn, counting from left to right.\n",
    "\n",
    "## Who gets to move, and when\n",
    "\n",
    "- Only discontented members are eligible to move\n",
    "- When people become happy, they don't want to move anymore. If an originally discontented member (when the game started) ends up content when their turn comes up, they stay put. (e.g. They used to be unhappy, someone moved, and now they're content.)\n",
    "- Anyone who *becomes* discontent gets a turn *after* the originally unhappy people get to move. (This rule is a little tricky, so make sure you feel like you comfortably understand it.)\n",
    "- The definition of a neighborhood is the four nearest neighbors on either side **at the moment one decides to move or stay**; if someone moves in between a resident and their next-door neighbor, they push the fourth neighbor out of the neighborhood. (If a line is 100 people long, the theater only fits 100 people, and you cut somewhere in line, then whoever was last in line isn't getting into the theater. Womp womp. Note that doesn't mean that the overall population changes, but a individual's neighborhood could change as other individuals move.)\n",
    "\n",
    "## What residents know about other residents\n",
    "\n",
    "- The residents don't think ahead; if it's their turn to move, they base their decision only on the state of their neighborhood as they see it, on that turn. They don't plan ahead, and they don't try to figure out what the other neighbors *might* do. \n",
    "\n",
    "# Your Turn - Play Schelling's model\n",
    "\n",
    "When Schelling did his original simulations in 1974, he wrote \"what is reported here has all been done by hand and eye.\" If he could do it, so can you.\n",
    "\n",
    "Start out with the following \"town\":\n",
    "\n",
    "`0+++0++00+00`\n",
    "\n",
    "Using Schelling's rules, play one round of the game by hand.\n",
    "\n",
    "- Starting with the left-most discontent resident, \n",
    "- move them a distance until they're happy, \n",
    "- then move rightward on to the next unhappy resident and repeat\n",
    "\n",
    "**When does/should the round stop?** In other words, how would you describe how you know the round is over. Try and be as precise as you can in explaining and put your explain in the cell below."
   ]
  },
  {
   "cell_type": "markdown",
   "metadata": {},
   "source": [
    "*Put your explanation here*"
   ]
  },
  {
   "cell_type": "markdown",
   "metadata": {},
   "source": [
    "When you've finished your round, **put the new distribution of your town's residents in the cell below**. And comment on the outcome."
   ]
  },
  {
   "cell_type": "markdown",
   "metadata": {},
   "source": [
    "*Put your finished round and comments here*"
   ]
  },
  {
   "cell_type": "markdown",
   "metadata": {},
   "source": [
    "To get the hang of it, **play again with this town**:\n",
    "\n",
    "`++0+0+00+00+`"
   ]
  },
  {
   "cell_type": "markdown",
   "metadata": {},
   "source": [
    "*Put your second result here and comment on the outcome*"
   ]
  },
  {
   "cell_type": "markdown",
   "metadata": {},
   "source": [
    "What happens if we change the size of the \"neighborhood\" and only have the residents compare themselves to 1 resident on either side of them instead of 4?\n",
    "\n",
    "**Play this version of the game** using the original town: `0+++0++00+00`"
   ]
  },
  {
   "cell_type": "markdown",
   "metadata": {},
   "source": [
    "*Put the outcome of this version of the game here and comment on the result*"
   ]
  },
  {
   "cell_type": "markdown",
   "metadata": {},
   "source": [
    "---\n",
    "## Coding up the Schelling model\n",
    "\n",
    "In class we're going to try to turn the Schelling model into code. To make sure you're in a good position to implement the model in class your job is to create one function that initializes your population and review/test another one that figures out which people are \"unhappy.\""
   ]
  },
  {
   "cell_type": "markdown",
   "metadata": {},
   "source": [
    "### Function 1: Creating a game board\n",
    "\n",
    "**Write a function** that creates a one-dimensional game board composed of agents of two different types (0 and 1, X and O, stars and pluses... whatever you want), where the agents are assigned to spots randomly with a 50% chance of being either type. **Define the function so that it takes as inputs**:\n",
    "\n",
    "1. The number of spots in the game board. Make it so that the default is set to 32.\n",
    "\n",
    "2. A random seed that you will use to initialize the board (this will make it possible to test the reproducibility of your model). Also set a default seed value.\n",
    "\n",
    "Make sure your function **returns** your game board.\n",
    "\n",
    "(*Something to think about*: which makes more sense to describe the game board, a list or a Numpy array? What are the tradeoffs?)\n",
    "\n",
    "Show that your function is behaving correctly by printing out the returned game board.\n",
    "\n",
    "(Hint: There is more than one way to write this code. If you're having trouble coming up with your own method, you could consider trying to use [`np.random.choice()`](https://docs.scipy.org/doc/numpy-1.13.0/reference/generated/numpy.random.choice.html), but you'll have to read the documentation to figure out how to get the output you want.) "
   ]
  },
  {
   "cell_type": "code",
   "execution_count": 37,
   "metadata": {},
   "outputs": [],
   "source": [
    "import numpy as np\n",
    "def initialize_board(p1,size):\n",
    "    # make sure you define the right inputs for the function\n",
    "    agent = ['o', '+']\n",
    "    game_board= np.random.choice(agent, size, p=[p1,1-p1])\n",
    "    return game_board\n",
    "\n",
    "    # and put the rest of your code here\n"
   ]
  },
  {
   "cell_type": "code",
   "execution_count": 38,
   "metadata": {},
   "outputs": [],
   "source": [
    "game_board=initialize_board(0.5,32)"
   ]
  },
  {
   "cell_type": "markdown",
   "metadata": {},
   "source": [
    "### Function 2: Deciding if an agent is happy\n",
    "\n",
    "Review this function that takes the game board generated by the function you wrote above and determines whether an agent at position `i` in the game board is happy for a game board of any size and a neighborhood of size `N` (i.e., from position `i-N` to `i+N`), and returns that information.\n",
    "\n",
    "The code has to make sure to check that position `i` is actually inside the game board (i.e., make sure the request makes sense), and ensure that it behaves correctly for agents near the edges of the game board.\n",
    "\n",
    "**Show that this function is behaving correctly by having it check every position in a game board that you generate using your function that you just created. Verify by eye that it's behaving correctly.**\n",
    "\n",
    "(**Something to think about:** How could you use this function to figure out where to *put* an agent? Would the function need to be written differently? Or could you use it as is? In order to move agents around, you'd eventually need to figure this out.)\n"
   ]
  },
  {
   "cell_type": "code",
   "execution_count": 45,
   "metadata": {},
   "outputs": [],
   "source": [
    "def is_happy(my_list, my_index, tol_prob = 0.5, neighbor_N = 4):\n",
    "    '''\n",
    "    This function take a game board (my_list) and checks to see if the agent\n",
    "    at the given index (my_index) is \"happy\" or \"unhappy\" based on a provided\n",
    "    tolerance (tol_prob) and a given neighborhood size (neighbor_N).\n",
    "    It returns 'True' if happy and 'False' if unhappy under those circumstances.\n",
    "    '''\n",
    "\n",
    "    # do some error-checking (is the index within the allowed range?)\n",
    "    if my_index < 0 or my_index > len(my_list):\n",
    "        print(\"you've made an indexing error!\", my_index)\n",
    "        return\n",
    "    \n",
    "    # store the value we will compare neighbors to (e.g. 0 or 1)\n",
    "    my_value = my_list[my_index]\n",
    "        \n",
    "    start = max(my_index - neighbor_N, 0) # start 4 to the left\n",
    "    end = min(my_index + neighbor_N, len(my_list)-1) # end 4 to the right\n",
    "    \n",
    "    # counter for keeping track of the neighbors that are like me\n",
    "    neighbors_like_me = 0\n",
    "    \n",
    "    # counter for keeping track of total neighbors\n",
    "    total_neighbors = 0\n",
    "    \n",
    "    # loop over the specified range\n",
    "    for i in range(start,end+1):\n",
    "        if i == my_index:\n",
    "            continue # don't count myself\n",
    "        if my_list[i] == my_value:  # if this neighbor is like me, keep track of that\n",
    "            neighbors_like_me += 1\n",
    "        total_neighbors+=1  # also keep track of total neighbors\n",
    "    \n",
    "    # happy if at least half are like me, unhappy otherwise\n",
    "    # note: it's at least half because we're not double-counting our\n",
    "    # own value\n",
    "    if neighbors_like_me/total_neighbors >= tol_prob:\n",
    "        return True\n",
    "    else:\n",
    "        return False"
   ]
  },
  {
   "cell_type": "code",
   "execution_count": 46,
   "metadata": {},
   "outputs": [
    {
     "data": {
      "text/plain": [
       "True"
      ]
     },
     "execution_count": 46,
     "metadata": {},
     "output_type": "execute_result"
    }
   ],
   "source": [
    "# Put your testing code here.\n",
    "import random\n",
    "my_index=random.randint(0,len(game_board)-1)\n",
    "is_happy(game_board, my_index, tol_prob = 0.5, neighbor_N = 4)"
   ]
  },
  {
   "cell_type": "markdown",
   "metadata": {},
   "source": [
    "**Question**: Does the code appear to be working as intended?"
   ]
  },
  {
   "cell_type": "markdown",
   "metadata": {},
   "source": [
    "*Put your answer here*"
   ]
  },
  {
   "cell_type": "markdown",
   "metadata": {},
   "source": [
    "---\n",
    "## Thinking about a 2D Schelling-type model\n",
    "\n",
    "The **Nicky Case** model mentioned above is again given here: \"[Parable of the Polygons](http://ncase.me/polygons/)\".\n",
    "\n",
    "Although we'll only be working with the 1D model in-class, **go through through the entire Polygon site to explore how the 2D model behaves**. We'll see if your 1D model exhibits similar properties in class.\n",
    "\n",
    "**Comment on what you learned from exploring the 2D polygon game in the cell below.**"
   ]
  },
  {
   "cell_type": "markdown",
   "metadata": {},
   "source": [
    "*Put your thoughts about the 2D polygon game here*"
   ]
  },
  {
   "cell_type": "markdown",
   "metadata": {},
   "source": [
    "---\n",
    "## Assignment wrap-up\n",
    "Please fill out the form that appears when you run the code below. You must completely fill this out in order to receive credit for the assignment!"
   ]
  },
  {
   "cell_type": "code",
   "execution_count": 47,
   "metadata": {},
   "outputs": [
    {
     "data": {
      "text/html": [
       "\n",
       "<iframe \n",
       "\tsrc=\"https://cmse.msu.edu/cmse801-pc-survey\" \n",
       "\twidth=\"800px\" \n",
       "\theight=\"600px\" \n",
       "\tframeborder=\"0\" \n",
       "\tmarginheight=\"0\" \n",
       "\tmarginwidth=\"0\">\n",
       "\tLoading...\n",
       "</iframe>\n"
      ],
      "text/plain": [
       "<IPython.core.display.HTML object>"
      ]
     },
     "execution_count": 47,
     "metadata": {},
     "output_type": "execute_result"
    }
   ],
   "source": [
    "from IPython.display import HTML\n",
    "HTML(\n",
    "\"\"\"\n",
    "<iframe \n",
    "\tsrc=\"https://cmse.msu.edu/cmse801-pc-survey\" \n",
    "\twidth=\"800px\" \n",
    "\theight=\"600px\" \n",
    "\tframeborder=\"0\" \n",
    "\tmarginheight=\"0\" \n",
    "\tmarginwidth=\"0\">\n",
    "\tLoading...\n",
    "</iframe>\n",
    "\"\"\"\n",
    ")"
   ]
  },
  {
   "cell_type": "markdown",
   "metadata": {},
   "source": [
    "### Congratulations, you're done!\n",
    "\n",
    "Submit this assignment by uploading it to the course D2L web page.  Go to the \"Pre-class assignments\" folder, find the submission link for Day 13, and upload it there."
   ]
  },
  {
   "cell_type": "markdown",
   "metadata": {},
   "source": [
    "&#169; Copyright 2018,  Michigan State University Board of Trustees"
   ]
  }
 ],
 "metadata": {
  "kernelspec": {
   "display_name": "Python 3",
   "language": "python",
   "name": "python3"
  },
  "language_info": {
   "codemirror_mode": {
    "name": "ipython",
    "version": 3
   },
   "file_extension": ".py",
   "mimetype": "text/x-python",
   "name": "python",
   "nbconvert_exporter": "python",
   "pygments_lexer": "ipython3",
   "version": "3.7.3"
  }
 },
 "nbformat": 4,
 "nbformat_minor": 4
}
