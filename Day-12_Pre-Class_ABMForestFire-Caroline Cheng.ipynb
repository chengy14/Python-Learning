{
 "cells": [
  {
   "cell_type": "markdown",
   "metadata": {},
   "source": [
    "### <p style=\"text-align: right;\"> &#9989; Yun Cheng</p>"
   ]
  },
  {
   "cell_type": "code",
   "execution_count": 1,
   "metadata": {},
   "outputs": [],
   "source": [
    "# Import important modules! It's always good practice to get your critical imports out of the way.\n",
    "%matplotlib inline\n",
    "import matplotlib.pyplot as plt\n",
    "import numpy as np\n",
    "import random # This module is handy for putting randomness into our models "
   ]
  },
  {
   "cell_type": "markdown",
   "metadata": {},
   "source": [
    "# Day 12 Pre-class: Agent-based models and forest fires\n",
    "\n",
    "![ABM](http://www.sesp.northwestern.edu/files/images/news/2010/05/netlogo-fire-model.jpg)\n",
    "\n",
    "We'll be discussing agent-based models in this pre-class assignment and exploring how agent-based models can be used to study how forest fires spread.\n",
    "\n",
    "**Important note**: This pre-class assignment is a bit longer than others but much of it involves reading the text, watching videos and exploring an online agent-based model. That said, you should still start it sooner than later so that you have plenty of time to work on the coding part at the end!\n",
    "\n",
    "### Goals for today's pre-class assignment\n",
    "\n",
    "In this pre-class assignment, you will: \n",
    "\n",
    "* Learn about Agent-Based Models (ABMs).\n",
    "* Explore a Forest Fire model using the web-based version of NetLogo (we will be programming this in Python in class).\n",
    "* Work with two-dimensional NumPy arrays to create our initial ABM environment.\n",
    "\n",
    "### Assignment instructions\n",
    "\n",
    "**This assignment is due by 11:59 p.m. the day before class,** and should be uploaded into the \"Pre-class assignments\" dropbox folder for Day 12.  If you run into issues with your code, make sure to use Slack to help each other out and receive some assistance from the instructors. Submission instructions can be found at the end of the notebook.\n",
    "\n",
    "**Note**: If you want to get some more practice with using NumPy, there are some extra exercises at the end of this notebook, but they are not required to receive credit for the assignment."
   ]
  },
  {
   "cell_type": "markdown",
   "metadata": {},
   "source": [
    "___\n",
    "# Agent-based models (ABM)\n",
    "\n",
    "This week, we are going to embark on a new technique for modeling called \"agent-based models\", or ABMs for short. To give you a bit of background on agent based models, watch the following short video.\n",
    "\n",
    "(**Note**: there is a bit in this video about the NetLogo code, which is designed to run ABMs. You'll actually test out a web-based version of NetLogo, but don't worry about having to code anything with NetLogo. We'll be using Python!)"
   ]
  },
  {
   "cell_type": "code",
   "execution_count": 2,
   "metadata": {},
   "outputs": [
    {
     "data": {
      "image/jpeg": "[encoded data removed]",
      "text/html": [
       "\n",
       "        <iframe\n",
       "            width=\"640\"\n",
       "            height=\"360\"\n",
       "            src=\"https://www.youtube.com/embed/XB4e-3nws1g\"\n",
       "            frameborder=\"0\"\n",
       "            allowfullscreen\n",
       "        ></iframe>\n",
       "        "
      ],
      "text/plain": [
       "<IPython.lib.display.YouTubeVideo at 0x11cf8e320>"
      ]
     },
     "execution_count": 2,
     "metadata": {},
     "output_type": "execute_result"
    }
   ],
   "source": [
    "# watch a video about the Agent-Based Model \n",
    "from IPython.display import YouTubeVideo \n",
    "YouTubeVideo(\"XB4e-3nws1g\",width=640,height=360)"
   ]
  },
  {
   "cell_type": "markdown",
   "metadata": {},
   "source": [
    "## More details about agent-based models\n",
    "(**Note**: We've intentionally put a fair bit of text here so that you have a place to refer back to about these models. If you've feel like you've got a good grasp of these models, you can just skim the content and come back if you need some clarification.)\n",
    "\n",
    "In the most basic sense, an agent-based model is one in which there is a universe of _things_ that _do stuff_. For example, when we were modeling the spread of zombies, we originally considered a model in which some fraction of the population were zombies or infected or in some other state. As time passes, the change in the fraction residing in each state varies depending on all the fractions. In an agent-based model, rather than consider fractions, we consider *individual agents*; that is, we would follow single zombies as they infect other agents. Agent-based models can thereby capture important spatial relationships that are obscured in other models.\n",
    "\n",
    "ABMs are among the most powerful and easy to use computational models; and, they are used across fields from chemistry, to biology, to finance, to social science, to ecology...and far beyond. Their ease of use stems from the fact that they are built on **rules**: if you can specify what the rules are in terms of code, it is not necessary to formulate your model directly in terms of equations. As we have just seen with compartmental models, tools like `odeint` make solving the equations trivial, so what is the advantage? The advantage is that sometimes the rule is not something easily expressible in terms of an equation; for example, \"go to the store if it is 5:00 and Julie hasn't called yet, but not if it is snowing.\"\n",
    "\n",
    "Why ABMs? We can understand the original motivation by thinking about the term \"agent\". The idea was that there were entities, think of people, companies/markets or governments, that have ideas or opinions that can be influenced by other agents. If we can build into each agent all of its behaviors, we can then allow the agents to interact with each other to see what behaviors emerge. In fact, that is part of the thinking behind ABMs: design the smallest entity that matters to the model and allow new behavior to happen through the natural interactions among all of the agents. We design the notes and let the symphony happen. \n",
    "\n",
    "ABMs originated in the field of computational sociology. There were fairly strict definitions of what an agent was; it needed to have these four traits:\n",
    "1. autonomy - ability to act on its own\n",
    "2. social ability - can interact with other agents\n",
    "3. reactivity - reacts to both other agents and the environment\n",
    "4. proactivity - has some sort of belief system; or, has its own goals\n",
    "\n",
    "Today, the term \"ABM\" has nearly lost its meaning because of its wide use (or, perhaps, *mis*use). Here, we will use a broader definition than the one just given. Let's think in terms of compartmental models. In compartmental models we would have $3-6$ different compartments; but, what if the \"thing\" in the compartment is much more complex? Let's consider a human, for example. A human might have:\n",
    "* an age\n",
    "* a height\n",
    "* a religious belief (or not)\n",
    "* a political preference\n",
    "* a very complex set of political beliefs (e.g., gun control, education, abortion, immigration, marriage, etc.)\n",
    "* many close friends\n",
    "* a hermit-like existence\n",
    "* estranged family members\n",
    "* only one kidney\n",
    "* a broken car\n",
    "* an IQ of 86\n",
    "* etc....\n",
    "\n",
    "Putting this information into compartmental models becomes quite awkward. But, if we define each agent to be an **individual** person, we can sample from known distributions (e.g., age, height, health status) to assign statistical behavior to that person (e.g., using census data). There are two other definitions of ABMs that can be confusing, but you should know about them. The first is a class of models based on things on a 2D grid, such as Conway's game of life:\n",
    "\n",
    "![CGoL](https://upload.wikimedia.org/wikipedia/commons/e/e5/Gospers_glider_gun.gif)\n",
    "\n",
    "These are better referred to as \"[cellular  automata](https://en.wikipedia.org/wiki/Cellular_automaton)\", but today people sometimes use the term \"ABM\" to talk about them. And, second, when we include randomness in the model, people will then call the model an ABM, but compartmental models can have randomness and some ABMs are deterministic (not random); these are just stochastic models. In the end, it is only semantics and we will be very flexible with the definition from now on. But, you can see that *all of these modeling approaches start to blur together* and that the terminology can be messy in this area of computational modeling."
   ]
  },
  {
   "cell_type": "markdown",
   "metadata": {},
   "source": [
    "---\n",
    "# Modeling a Forest Fire using an Agent-Based Modeling (ABM)\n",
    "\n",
    "We're going to make our first foray into ABMs by modeling a forest fire. \n",
    "\n",
    "### Why model forest fires?\n",
    "\n",
    "While this isn't a huge problem in Michigan, the states in the western United States having been suffering a tremendous problem with huge and difficult-to-control forest fires.  This comes from a combination of extended drought conditions, dense woodlands, and forest management policies that suppress small fires and thus ensure that large quantities of dead, dry trees and brush are available to burn when a large fire inevitably starts (typically from lightning strikes, but occasionally from negligent campers).  In recent years, this has been exacerbated by climate change, which has both caused drought conditions to be more severe and allowed tree-killing diseases and insects to flourish, which produces more dead, easily-burned wood.\n",
    "\n",
    "These forest fires destroy ecosystems and peoples' homes and other property, and can result in the loss of human and animal life.  A key challenge in forest management is to attempt to contain these huge forest fires once they start, in order to protect human lives, settlements, and infrastructure.  To that end, it is critical to have models of how fire spreads in various conditions; see, for example, the [Open Wildland Fire Modeling group](http://www.openwfm.org/wiki/Open_Wildland_Fire_Modeling_E_community_Wiki).\n",
    "\n",
    "More generally, the type of model that we're going to create is an example of a \"percolation\" model, where one substance (in this case, fire) moves through another substance (in this case, forest).  This type of problem is interesting in a variety of fields, including geology (oil or water percolating through rock, sand, or soil), human behavior (crowd movement in amusement parks), and in physics (understanding how two materials mix together).  \n",
    "\n",
    "### What is a \"tipping point\"?\n",
    "\n",
    "This model also demonstrates the concept of a \"critical threshold\" or a \"tipping point\".  This is a phenomenon that occurs when a small change in an input parameter results in a large change in outcome.  This is a phenomenon that shows up in both simple and complex models, and happens in such varied circumstances as forest fires, the spread of disease in populations, and the transfer of information within a population."
   ]
  },
  {
   "cell_type": "markdown",
   "metadata": {},
   "source": [
    "---\n",
    "# Let's try the model!\n",
    "\n",
    "Before we try to implement this model in Python, let's get a feel for how the model works.  We're going to do this using the web-based version of [NetLogo](https://ccl.northwestern.edu/netlogo), which is a programming language built for running agent-based models. Let's get started:\n",
    "\n",
    "**Click this link to access the model**: [Web-based NetLogo Fire model](http://netlogoweb.org/launch#http://netlogoweb.org/assets/modelslib/Sample%20Models/Earth%20Science/Fire.nlogo). \n",
    "\n",
    "**Running the model:**  The only parameter that you can vary is \"density\", which the fraction of cells that contain trees (and thus the density of trees in the forest).  You can drag the slider back and forth to change the density.  After you do that, click the \"setup\" button and then click \"go\".\n",
    "\n",
    "**What do you observe?**  Try setting the \"density\" value to various numbers between 0 and 99, and see how the wildfire spreads.  What happens when the value is low versus when it is high?  Is there any particular value where the behavior changes very rapidly as you change the density of trees?  If so, try to home in on that number and report it below."
   ]
  },
  {
   "cell_type": "markdown",
   "metadata": {},
   "source": []
  },
  {
   "cell_type": "markdown",
   "metadata": {},
   "source": [
    "---\n",
    "# Setting up our forest fire model\n",
    "\n",
    "In-class we'll be implementing the code for our forest fire model. In order to do this, we'll need code that's capable of plotting a 2D NumPy array, as well as code that will set up our initial forest and the start of our fire. This is what you'll work on in this pre-class assignment, so that we can work on coding up the rules of the model in class.\n",
    "\n",
    "Our forest will be represented by a two-dimensional, square array with sides that are N cells long. The cells in the array can have three values, 0 (empty), 1 (trees), and 2 (on fire).  At the beginning of the model, a user-specified fraction of the cells $\\mathrm{f_{trees\\_start}}$ (which is equivalent to the NetLogo `density` parameter) are randomly filled with trees, and the remaining cells are empty.  To start out, one edge of the board (say, the entire leftmost column) is set on fire.\n",
    "\n",
    "In the cell below, we provide a function that takes an array as an input and generates a plot using the  `plt.plot()` function (as opposed to `plt.imshow()`).  We have chosen  to have a value of zero (0) represented by an empty cell, a one (1) to be represented by a green triangle, and a (2) to be represented by a red square in this plot.  \n",
    "\n",
    "Make sure you understand how this code works as we will be using it a lot!\n",
    "\n",
    "**Note**: This function uses a NumPy function that you might not have seen yet, `meshgrid`. The documention for `meshgrid` is here: https://docs.scipy.org/doc/numpy/reference/generated/numpy.meshgrid.html. Essentially, `meshgrid` takes one-dimensional arrays and creates new multi-dimensional arrays made up of the values from the one dimensional arrays. In the code below, for example, `meshgrid` takes the x and y values and creates two, new 2D arrays with the x and y values filling the arrays. You might need to experiment with meshgrid a bit on your own to understand how it works."
   ]
  },
  {
   "cell_type": "code",
   "execution_count": 3,
   "metadata": {},
   "outputs": [],
   "source": [
    "# function plotgrid() takes in a 2D array and uses matplotlib to make a plot.\n",
    "# this function returns no values!\n",
    "\n",
    "def plotgrid(myarray):\n",
    "    \n",
    "    # first create two vectors based on the x and y sizes of the grid\n",
    "    x_range = np.linspace(0, myarray.shape[1]-1, myarray.shape[1]) # x means horizontal!\n",
    "    y_range = np.linspace(0, myarray.shape[0]-1, myarray.shape[0]) # y means vertical!\n",
    "    \n",
    "    # use the numpy meshgrid function to create two matrices \n",
    "    # of the same size as myarray with x and y indexes\n",
    "    x_indexes, y_indexes = np.meshgrid(x_range, y_range) \n",
    "    \n",
    "    # make a list of all the x and y indexes that are either squares or triangles.\n",
    "    # the notation below is relatively new to us; it means that when myarray==(value),\n",
    "    # only record those values. \n",
    "    tr_x = x_indexes[myarray == 1]; \n",
    "    tr_y = y_indexes[myarray == 1];\n",
    "    sq_x = x_indexes[myarray == 2]; \n",
    "    sq_y = y_indexes[myarray == 2];\n",
    "    \n",
    "    # plot the squares and triangles.  make the size of the polygons \n",
    "    # larger than the default so they're easy to see!\n",
    "    # Note: we have to reverse the y values to make sure it plots with the right orientation\n",
    "    plt.plot(tr_x,  myarray.shape[0] - tr_y - 1, '^g',markersize=20)\n",
    "    plt.plot(sq_x,  myarray.shape[0] - sq_y - 1, 'rs',markersize=20)\n",
    "    \n",
    "    # Set the x and y limits to include half a space overlap so we don't cut off the shapes\n",
    "    plt.ylim([-0.5,myarray.shape[0] + 0.5]) \n",
    "    plt.xlim([-0.5,myarray.shape[1] + 0.5])\n",
    "    \n",
    "    # Turn the axes off\n",
    "    plt.axis('off')"
   ]
  },
  {
   "cell_type": "markdown",
   "metadata": {},
   "source": [
    "### Now, let's test this plotting function!\n",
    "\n",
    "It's always a good idea to test a new function. We'll create random forest pre-populated with  zeros, ones, and twos using NumPy's `randomint` function, which generates random integers."
   ]
  },
  {
   "cell_type": "code",
   "execution_count": 4,
   "metadata": {},
   "outputs": [
    {
     "data": {
      "image/png": "[encoded data removed]",
      "text/plain": [
       "<Figure size 720x720 with 1 Axes>"
      ]
     },
     "metadata": {
      "needs_background": "light"
     },
     "output_type": "display_data"
    }
   ],
   "source": [
    "# Generate a random grid of points, distributed uniformly between 0, 1, 2\n",
    "# Note that the high value we give the function is 3 because the the range is 0, inclusive, to 3, exclusive.\n",
    "forest_array = np.random.randint(0,3,size=[20,20]) \n",
    "\n",
    "# Create a figure and set the figure size so it doesn't look too crowded.\n",
    "# Try commenting it out to see what happens!\n",
    "# Note that if you expanded it to a larger forest size, you may need to change the marker size\n",
    "# and figure size to make things look good.\n",
    "fig = plt.figure(figsize=(10,10)) \n",
    "\n",
    "# now make a plot.\n",
    "plotgrid(forest_array)"
   ]
  },
  {
   "cell_type": "markdown",
   "metadata": {},
   "source": [
    "### Making an animation\n",
    "\n",
    "So far, so good! Finally, we are going to animate a loop of plots using a dynamic display trick. Read through the code and see if you can make sense of what the code is doing.\n",
    "\n",
    "In this example we just keep making a new random forest 10 times while pausing a half second between each forest. For your forest fire model you'd be plotting the new state of your forest as the fire spreads."
   ]
  },
  {
   "cell_type": "code",
   "execution_count": 5,
   "metadata": {},
   "outputs": [
    {
     "data": {
      "image/png": "[encoded data removed]",
      "text/plain": [
       "<Figure size 720x720 with 1 Axes>"
      ]
     },
     "metadata": {},
     "output_type": "display_data"
    }
   ],
   "source": [
    "# This lets us make and clear plots without creating new ones\n",
    "from IPython.display import display, clear_output\n",
    "\n",
    "# We can use this to have images show up with some user-specified spacing in time\n",
    "import time \n",
    "\n",
    "# Create a figure\n",
    "fig = plt.figure(figsize=(10,10))\n",
    "\n",
    "# Run animation for 10 iterations\n",
    "for i in range(10): \n",
    "    \n",
    "    # Generate the random neighborhood, as in previous cells\n",
    "    myarray = np.random.randint(0,3,size=[20,20]) # range from 0 to 2\n",
    "    \n",
    "    # Put display code here\n",
    "    plotgrid(myarray)   \n",
    "    \n",
    "    # Animation part \n",
    "    time.sleep(0.5)         # Sleep for half a second to slow down the animation\n",
    "    clear_output(wait=True) # Clear output for dynamic display\n",
    "    display(fig)            # Reset display\n",
    "    fig.clear()             # Prevent overlapping and layered plots\n",
    "\n",
    "plt.close()                 # Close dynamic display"
   ]
  },
  {
   "cell_type": "markdown",
   "metadata": {},
   "source": [
    "---\n",
    "## An aside on random number generators\n",
    "\n",
    "Some of the code above uses the a random number generator from NumPy. There is also a `random` module in standard Python that can create random numbers. You might have already come across these random number generators at some point in this course.\n",
    "\n",
    "It turns out that the random number generators available on computers aren't truly random, they're actually \"pseudo-random.\" This is because the random number generators use mathematical algorithms to produce numbers that _seem_ random, but they are actually produced in a predictable and reproducible way based on the \"seed\" number that is given to the random number generator. This means that if we need to produce the same set of random numbers every time they are generated, we can define a specific seed number and use that to generate the numbers. If we want our random numbers to keep changing, we just let the computer pick the seed.\n",
    "\n",
    "**Watch the video below to learn how to use the `random` module in NumPy.**"
   ]
  },
  {
   "cell_type": "code",
   "execution_count": 6,
   "metadata": {},
   "outputs": [
    {
     "data": {
      "image/jpeg": "[encoded data removed]",
      "text/html": [
       "\n",
       "        <iframe\n",
       "            width=\"640\"\n",
       "            height=\"360\"\n",
       "            src=\"https://www.youtube.com/embed/fF841G53fGo\"\n",
       "            frameborder=\"0\"\n",
       "            allowfullscreen\n",
       "        ></iframe>\n",
       "        "
      ],
      "text/plain": [
       "<IPython.lib.display.YouTubeVideo at 0x11ecd7160>"
      ]
     },
     "execution_count": 6,
     "metadata": {},
     "output_type": "execute_result"
    }
   ],
   "source": [
    "from IPython.display import YouTubeVideo \n",
    "YouTubeVideo(\"fF841G53fGo\",width=640,height=360) # Random numbers"
   ]
  },
  {
   "cell_type": "markdown",
   "metadata": {},
   "source": [
    "**In the cell below, test out the following random number generators in Python**:\n",
    "\n",
    "* Use the `random` function from the `random` module (i.e. `random.random()`) to print a random number between zero and one.\n",
    "* Use the `randint` function from the `random` module to print a random integer between 0 and 10.\n",
    "\n",
    "Run the cell a few times to get a sense for the random numbers that are generated and confirm that they change every time you run the cell."
   ]
  },
  {
   "cell_type": "code",
   "execution_count": 7,
   "metadata": {},
   "outputs": [
    {
     "data": {
      "text/plain": [
       "0.3567471462433828"
      ]
     },
     "execution_count": 7,
     "metadata": {},
     "output_type": "execute_result"
    }
   ],
   "source": [
    "# Print your random numbers here\n",
    "import random\n",
    "random.random()"
   ]
  },
  {
   "cell_type": "code",
   "execution_count": 11,
   "metadata": {},
   "outputs": [
    {
     "name": "stdout",
     "output_type": "stream",
     "text": [
      "[6, 9, 5, 10, 3, 1, 8, 7, 2, 4]\n"
     ]
    }
   ],
   "source": [
    "mylist=[1,2,3,4,5,6,7,8,9,10]\n",
    "random.shuffle(mylist)\n",
    "print(mylist)"
   ]
  },
  {
   "cell_type": "markdown",
   "metadata": {},
   "source": [
    "---\n",
    "## Coming back to setting up our \"forest\"\n",
    "\n",
    "The final step we want to figure out before we get to class is how to set up our forest so that we can model the spread of fire. Remember, we want the forest to be an NxN square where 0 is \"empty\", 1 is \"tree\", and 2 is \"fire\". The \"density\" of the forest or fraction of the forest initially covered in trees, $f_{tree\\_start}$, should be defined by the probability that a given cell starts off with a tree in it. Start off the board so that the leftmost column of the board is initialized to be \"on fire\"!\n",
    "\n",
    "**Task**: Write a function that creates the initial forest. The function should take in the size of the forest ($N$) and the probability that a given cell will contain a tree, $f_{tree\\_start}$, and then return the forest. Test out your function by plotting your forest array after you create it!\n",
    "\n",
    "*Hint*: The `np.zeros` function is a great way to initialize a 2D array full of zeros.\n",
    "\n",
    "*Another hint*: To decide if a tree should exist in a cell, you can pick a random number between 0 and 1, and if the number is less than the value of $f_{tree\\_start}$, put a tree in the cell. If it's higher, don't put a tree there.\n",
    "\n",
    "*Final hint*: Once you've created an array of zeros, you just need to loop over all of the cells in the array and decide if a tree should go in the cell. When you're done doing that, go back and set the leftmost column to be on fire!\n",
    "\n",
    "As an example, to loop through all of the cells in your 2D array and set the values equal to 1, you might do something like this:\n",
    "\n",
    "```\n",
    "# Loop over the rows\n",
    "for r in range(board.shape[0]):\n",
    "    # Loop over the columns\n",
    "    for c in range(board.shape[1]):\n",
    "        board[r,c] = 1\n",
    "```\n",
    "\n",
    "We commonly use `i` and `j` as our indices instead of `r` and `c`, which would look something like this:\n",
    "\n",
    "```\n",
    "# Loop over the rows\n",
    "for i in range(board.shape[0]):\n",
    "    # Loop over the columns\n",
    "    for j in range(board.shape[1]):\n",
    "        board[i,j] = 1\n",
    "```\n",
    "\n",
    "Here's a visual reminder of how we can think about **indexing** a 2D array:\n",
    "\n",
    "<img src=\"https://www.oreilly.com/library/view/python-for-data/9781449323592/httpatomoreillycomsourceoreillyimages2172112.png\" width=300px>\n",
    "\n",
    "In this visual, the numbers do not correspond to the array element values, but only their positions. In your forest \"board\", the values would be 0, 1, or 2, to represent empty space, trees, or fire."
   ]
  },
  {
   "cell_type": "code",
   "execution_count": 75,
   "metadata": {},
   "outputs": [],
   "source": [
    "import random # import random module to use random function\n",
    "import numpy as np # import numpy module to create matrix of zeros\n",
    "# Define your \"create_forest\" function that takes in the value of \"N\"\n",
    "# and the value of \"ftreestart\" and returns the forest array\n",
    "def create_forest(N,ftreestart):\n",
    "    \n",
    "    # Initialize a 2D array full of zeros using np.zeros\n",
    "    a = np.zeros([N, N], dtype = int)\n",
    "    # Loop through the 2D array to initialize the trees\n",
    "    for i in range(len(a)):\n",
    "        for j in range(len(a[i])):\n",
    "            r = random.uniform(0, 1) \n",
    "    # (this will be require a pair of nested loops to loop over all of the index values)\n",
    "    # To determine if a tree should go there, pick a random number between 0 and 1,\n",
    "    # if it's less than ftreestart, put a \"tree\" there\n",
    "            if r < ftreestart:\n",
    "                 a[i][j]=1\n",
    "            else:\n",
    "                    a[i][j]=0\n",
    "    \n",
    "    \n",
    "    #Finally, go back and set the entire first column to be \"on fire\" using array indexing with a \":\"\n",
    "    for i in range(len(a)):          \n",
    "        a[i][0]=2\n",
    "    #Make sure you _return_ your new board!\n",
    "    return print(a)\n",
    "    "
   ]
  },
  {
   "cell_type": "code",
   "execution_count": 77,
   "metadata": {},
   "outputs": [
    {
     "name": "stdout",
     "output_type": "stream",
     "text": [
      "[[2 1 1 0 1 1 1 0 1 1]\n",
      " [2 1 0 0 0 1 1 0 1 1]\n",
      " [2 0 0 1 0 1 0 1 1 1]\n",
      " [2 1 1 1 0 1 1 1 1 0]\n",
      " [2 1 0 1 1 1 0 0 1 1]\n",
      " [2 0 1 0 1 0 1 1 1 1]\n",
      " [2 1 1 1 0 1 1 1 1 1]\n",
      " [2 0 1 1 0 1 1 1 1 1]\n",
      " [2 0 1 0 0 1 1 0 1 1]\n",
      " [2 1 1 1 1 1 1 1 0 0]]\n"
     ]
    }
   ],
   "source": [
    "# Put some code here to test your new create_forest function and plot the result\n",
    "create_forest(10,0.7)\n"
   ]
  },
  {
   "cell_type": "markdown",
   "metadata": {},
   "source": [
    "---\n",
    "## Assignment wrap-up\n",
    "Please fill out the form that appears when you run the code below. You must completely fill this out in order to receive credit for the assignment!"
   ]
  },
  {
   "cell_type": "code",
   "execution_count": 67,
   "metadata": {},
   "outputs": [
    {
     "data": {
      "text/html": [
       "\n",
       "<iframe \n",
       "\tsrc=\"https://cmse.msu.edu/cmse801-pc-survey\" \n",
       "\twidth=\"800\" \n",
       "\theight=\"600\" \n",
       "\tframeborder=\"0\" \n",
       "\tmarginheight=\"0\" \n",
       "\tmarginwidth=\"0\">\n",
       "\tLoading...\n",
       "</iframe>\n"
      ],
      "text/plain": [
       "<IPython.core.display.HTML object>"
      ]
     },
     "execution_count": 67,
     "metadata": {},
     "output_type": "execute_result"
    }
   ],
   "source": [
    "from IPython.display import HTML\n",
    "HTML(\n",
    "\"\"\"\n",
    "<iframe \n",
    "\tsrc=\"https://cmse.msu.edu/cmse801-pc-survey\" \n",
    "\twidth=\"800\" \n",
    "\theight=\"600\" \n",
    "\tframeborder=\"0\" \n",
    "\tmarginheight=\"0\" \n",
    "\tmarginwidth=\"0\">\n",
    "\tLoading...\n",
    "</iframe>\n",
    "\"\"\"\n",
    ")"
   ]
  },
  {
   "cell_type": "markdown",
   "metadata": {},
   "source": [
    "### Congratulations, you're done!\n",
    "\n",
    "Submit this assignment by uploading it to the course D2L web page.  Go to the \"Pre-class assignments\" folder, find the submission link for Day 12, and upload it there.\n",
    "\n",
    "If you have the time and want some practice with 2D NumPy arrays, feel free to work with the cells below. This practice may be useful for some of the work that we're going to do with agent-bsed models. **It is not required** that you complete this part of the assignment. You might even just want to make a note to come back and look at this at a later time."
   ]
  },
  {
   "cell_type": "markdown",
   "metadata": {},
   "source": [
    "___\n",
    "___\n",
    "# Extra information about and practice with 2D NumPy arrays\n",
    "\n",
    "Modeling ABMs will require using 2D NumPy array, _a lot_. We will be doing a variety of things with 2D arrays, including array slicing, populating them with random numbers, and making plots of them. Here are a number of exercises to get more familiar with using NumPy array, if you think you need a bit of practice. Again, these exercises are for your benefit, but are not required to get credit for the pre-class assignment."
   ]
  },
  {
   "cell_type": "code",
   "execution_count": null,
   "metadata": {},
   "outputs": [],
   "source": [
    "%matplotlib inline\n",
    "import matplotlib.pyplot as plt\n",
    "import numpy as np\n",
    "import random"
   ]
  },
  {
   "cell_type": "markdown",
   "metadata": {},
   "source": [
    "---\n",
    "\n",
    "## Array creation and basic properties\n",
    "\n",
    "### a.\n",
    "The line below creates an 8x10 array of zeros called ```my_array```.  Note that you can do this with any numpy array method (```ones```, ```zeros_like```, ```ones_like```, etc.).  See [this page](http://docs.scipy.org/doc/numpy/reference/routines.array-creation.html) for a full list of routines for array creation.  You can also specify the array data type (float, int, etc.) by using the `dtype` argument, i.e., `dtype='float'` or `dtype='int'`.  By default, Numpy creates arrays of floating-point numbers."
   ]
  },
  {
   "cell_type": "code",
   "execution_count": null,
   "metadata": {},
   "outputs": [],
   "source": [
    "# example \n",
    "a = np.zeros([8,10],dtype='int')\n",
    "print(\"new array:\\n\", a)"
   ]
  },
  {
   "cell_type": "code",
   "execution_count": null,
   "metadata": {},
   "outputs": [],
   "source": [
    "# now your turn: try creating 4x12 array of zeros of type float \n"
   ]
  },
  {
   "cell_type": "markdown",
   "metadata": {},
   "source": [
    "### b. \n",
    "Previously in class, you might have already created a 1D NumPy array of predetermined values by giving the ```np.array``` a list.  You can make a multidimensional NumPy array by giving  ```np.array``` a set of nested lists (i.e., a list of lists).  The following will create a $3\\times 3$ array with predetermined values:"
   ]
  },
  {
   "cell_type": "code",
   "execution_count": null,
   "metadata": {},
   "outputs": [],
   "source": [
    "b = np.array([[1,2,3],[4,5,6],[7,8,9]])\n",
    "print(b)"
   ]
  },
  {
   "cell_type": "markdown",
   "metadata": {},
   "source": [
    "### c.\n",
    "The array `.shape` property tells you how large the array is in each dimension, `.ndim` tells you the number of dimensions, and `.size` tells you the total number of elements in the array. You can access each of the dimensions dim by `.shape[dim]`."
   ]
  },
  {
   "cell_type": "code",
   "execution_count": null,
   "metadata": {},
   "outputs": [],
   "source": [
    "print(\"the shape of this array is:\", a.shape)\n",
    "print(\"there are:\", a.ndim, \"dimensions\")\n",
    "print(\"there are\", a.size, \"total elements\")\n",
    "\n",
    "for i in range(a.ndim):\n",
    "    print(\"the size of dimension\", i, \"is\", a.shape[i])"
   ]
  },
  {
   "cell_type": "markdown",
   "metadata": {},
   "source": [
    "### d. \n",
    "You can manipulate individual cells of a 2D array by:\n",
    "\n",
    "```a[index_1,index_2]```\n",
    "\n",
    "Note that when you print it, the first index corresponds to rows (counting down from the top) and the second index corresponds to columns (counting from the left).  Indices in both directions count by zeros."
   ]
  },
  {
   "cell_type": "code",
   "execution_count": null,
   "metadata": {},
   "outputs": [],
   "source": [
    "a[2,6]=11\n",
    "\n",
    "#print entire array\n",
    "print(a)\n",
    "\n",
    "#print a single element of the array\n",
    "print(a[2,6])"
   ]
  },
  {
   "cell_type": "markdown",
   "metadata": {},
   "source": [
    "---\n",
    "## Slicing arrays \n",
    "\n",
    "You can also use the same type of slicing that you use with lists; in other words, python allows you to select some subset of the elements in a list or an array to manipulate or copy.  With slicing, there are three values that can be used along each dimension: `start`, `end`, and `step`, separated by colons.  \n",
    "\n",
    "### Here are some examples in 1D:\n",
    "\n",
    "```\n",
    "myarray[start:end]   # items start through end-1\n",
    "myarray[start:]      # items start through the end of the array\n",
    "myarray[:end]        # items from the beginning of the array through end-1\n",
    "myarray[:]           # a copy of the whole array\n",
    "myarray[start:end:step]  # every \"step\" item from start to end-1\n",
    "myarray[::step]      # every \"step\" item over the whole array, starting with the first element.\n",
    "```\n",
    "\n",
    "Note that negative indices count from the end of the array, so `myarray[-1]` is the last element in the array, `myarray[-2]` is the second-to-last element, etc.  You can also reverse the order of the array by starting at the end and counting to the beginning by negative numbers; in other words, `myarray[-1::-1]` starts at the end of the array and goes to the first element by counting down by one each time."
   ]
  },
  {
   "cell_type": "code",
   "execution_count": null,
   "metadata": {},
   "outputs": [],
   "source": [
    "# create a 1D array with values 0...10\n",
    "c = np.arange(0,10)\n",
    "\n",
    "# Put your code below; if the above explanation is not enough to help you do the following, feel free to Google it \n",
    "\n",
    "#1. print the whole array\n",
    "\n",
    "#2. print out some elements from the middle of the array\n",
    "\n",
    "#3. print the second element through the second-to-last element\n",
    "\n",
    "#4. print the first half of the array \n",
    "\n",
    "#5. print the second half of the array\n",
    "\n",
    "#6. print every other element from 2-8 (inclusive)\n",
    "\n",
    "#7. print every third element in the array\n",
    "\n",
    "#8. reverse the array"
   ]
  },
  {
   "cell_type": "markdown",
   "metadata": {},
   "source": [
    "### 2D Cases\n",
    "The same sort of technique can be used with a multidimensional array, with `start`, `stop`, and (optionally) `step` specified along each dimension, with the dimensions separated by a comma. The syntax would be:\n",
    "`my2Darray[start1:stop1:step1, start2:stop2:step2]`\n",
    "with the same rules as above. You can also combine slicing with fixed indices to get some or all elements from a single row or column of your array.\n",
    "For example, array `b` created above is a $3\\times 3$ array with the values 1–9 stored in it. We can do several different things:\n",
    "```\n",
    "b[0,:]     # get the first row\n",
    "b[:,2]     # get the third column\n",
    "b[1,::2]   # get every other element of the first row, starting at element 0\n",
    "b[:2,:2]   # get a square array containing the first two elements along each dimension\n",
    "b[-2:,-2:] # get a square array containing the last two elements along each dimension\n",
    "b[::2,::2] # get a square array of every other element along each dimension\n",
    "b[-1::-1,-1::-1]  # original-size array, but reversed along both dimensions\n",
    "```"
   ]
  },
  {
   "cell_type": "code",
   "execution_count": null,
   "metadata": {},
   "outputs": [],
   "source": [
    "# Put your code below; if the above explaination is not enough to help you do the following, feel free to Google it \n",
    "\n",
    "# print the first row\n",
    "\n",
    "# print the third column\n",
    "\n",
    "# print every other element of the second row, starting with element 0\n",
    "\n",
    "# print square array of first two elements along each dimension\n",
    "\n",
    "# print reversed array"
   ]
  },
  {
   "cell_type": "markdown",
   "metadata": {},
   "source": [
    "---\n",
    "## Copying arrays\n",
    "\n",
    "So far, we've only shown you how to create arrays and manipulate subsets of arrays.  But what about copying arrays?  What happens when you create an array `c`, and set `d=c`?"
   ]
  },
  {
   "cell_type": "code",
   "execution_count": null,
   "metadata": {},
   "outputs": [],
   "source": [
    "c = np.full((4,4),10.0)  # makes an array of shape (4,4) where all elements are value 10.0\n",
    "\n",
    "d = c\n",
    "\n",
    "print(\"c:\\n\",c, \"\\nd:\\n\", d)"
   ]
  },
  {
   "cell_type": "markdown",
   "metadata": {},
   "source": [
    "The two arrays are the same, which is what you would expect. But what happens if we make changes to array `d`?"
   ]
  },
  {
   "cell_type": "code",
   "execution_count": null,
   "metadata": {},
   "outputs": [],
   "source": [
    "d[:,0] = -1.0  # make column 0 equal to -1\n",
    "d[:,2] = -6.0  # make column 2 equal to -6\n",
    "\n",
    "print(\"c:\\n\",c, \"\\nd:\\n\", d)"
   ]
  },
  {
   "cell_type": "markdown",
   "metadata": {},
   "source": [
    "Arrays c and d are identical, even though you only changed d!\n",
    "\n",
    "_So what's going on here?_ When you equate arrays in Numpy (i.e., d = c), you create a reference, rather than copying the array -- in other words, the array d is not a distinct array, but rather points to the array c in memory. Any modification to either c or d will be seen by both. To actually make a copy, you have to use the **np.copy()** method (we did this in the class before):"
   ]
  },
  {
   "cell_type": "code",
   "execution_count": null,
   "metadata": {},
   "outputs": [],
   "source": [
    "e = np.full((4,4),10.0)  # makes an array of shape (4,4) where all elements are value 10.0\n",
    "\n",
    "f = np.copy(e)\n",
    "\n",
    "f[:,0] = -1.0  # make column 0 equal to -1\n",
    "f[:,2] = -6.0  # make column 2 equal to -6\n",
    "\n",
    "print(\"e:\\n\",e, \"\\nf:\\n\", f)"
   ]
  },
  {
   "cell_type": "markdown",
   "metadata": {},
   "source": [
    "#### Copy a subset of an array:"
   ]
  },
  {
   "cell_type": "code",
   "execution_count": null,
   "metadata": {},
   "outputs": [],
   "source": [
    "g = np.full((4,4),10.0)  # makes an array of shape (4,4) where all elements are value 10.0\n",
    "\n",
    "h = np.copy(g[0:2,0:2])\n",
    "\n",
    "print(\"g:\\n\",g, \"\\nh:\\n\", h)"
   ]
  },
  {
   "cell_type": "markdown",
   "metadata": {},
   "source": [
    "---\n",
    "## Numpy and random numbers\n",
    "\n",
    "We talked about random number generators earlier in the assignment, but used the `random` module. NumPy has similar functions: \n",
    "\n",
    "* [```random```](http://docs.scipy.org/doc/numpy/reference/generated/numpy.random.random.html#numpy.random.random), which generates an array with user-specified dimensions (1D, 2D, or more dimensions) and fills it with random floating-point values in the interval $[0,1)$.\n",
    "* [```randint```](http://docs.scipy.org/doc/numpy/reference/generated/numpy.random.randint.html#numpy.random.randint), which generates an array with user-specified dimensions and fills it with random integers in a user-specified interval.\n",
    "\n",
    "Try generating a 5x5 array of random integers below."
   ]
  },
  {
   "cell_type": "code",
   "execution_count": null,
   "metadata": {},
   "outputs": [],
   "source": [
    "# Generate a 5 by 5 array of random integers and print it out \n"
   ]
  },
  {
   "cell_type": "markdown",
   "metadata": {},
   "source": [
    "---\n",
    "\n",
    "## Plotting 2D numpy arrays\n",
    "\n",
    "It's easy to plot 2D Numpy arrays in matplotlib using the pyplot [`matshow`](http://matplotlib.org/api/pyplot_api.html#matplotlib.pyplot.matshow) method. \n",
    "\n",
    "(See [this page](http://stackoverflow.com/questions/16492830/colorplot-of-2d-array-matplotlib) for a more complex example.)  Finally, you can use the pyplot [`imshow`](http://matplotlib.org/api/pyplot_api.html#matplotlib.pyplot.imshow) method to control many aspects of a plotted array, including things like the [color map](http://matplotlib.org/examples/color/colormaps_reference.html), opacity, and the minimum and maximum range."
   ]
  },
  {
   "cell_type": "code",
   "execution_count": null,
   "metadata": {},
   "outputs": [],
   "source": [
    "new_rand_array = np.random.random((100,100))\n",
    "\n",
    "plt.matshow(new_rand_array)"
   ]
  },
  {
   "cell_type": "markdown",
   "metadata": {},
   "source": [
    "\n",
    "### More useful links:\n",
    "\n",
    "* [Numpy quickstart](https://docs.scipy.org/doc/numpy-dev/user/quickstart.html)\n",
    "* [A useful numpy tutorial](http://cs231n.github.io/python-numpy-tutorial/#numpy)\n",
    "* [Numpy array creation methods](http://docs.scipy.org/doc/numpy/reference/routines.array-creation.html)\n",
    "* [Numpy array slicing/indexing tutorial](http://cs231n.github.io/python-numpy-tutorial/#numpy-array-indexing)\n",
    "* [Numpy array slicing and indexing techniques](http://docs.scipy.org/doc/numpy/reference/arrays.indexing.html) (more extensive documentation)\n",
    "* [The Numpy random module](http://docs.scipy.org/doc/numpy/reference/routines.random.html)"
   ]
  }
 ],
 "metadata": {
  "kernelspec": {
   "display_name": "Python 3",
   "language": "python",
   "name": "python3"
  },
  "language_info": {
   "codemirror_mode": {
    "name": "ipython",
    "version": 3
   },
   "file_extension": ".py",
   "mimetype": "text/x-python",
   "name": "python",
   "nbconvert_exporter": "python",
   "pygments_lexer": "ipython3",
   "version": "3.7.3"
  }
 },
 "nbformat": 4,
 "nbformat_minor": 4
}
